{
 "cells": [
  {
   "cell_type": "markdown",
   "metadata": {},
   "source": [
    "# 🐍 ICE 9: Error Handling with `try / except`"
   ]
  },
  {
   "cell_type": "markdown",
   "metadata": {},
   "source": [
    "## Exercise 1\n",
    "\n",
    "**Task:**\n",
    "- Assume you have a predefined list of fruits: [\"apple\", \"banana\",\n",
    "\"cherry\"].\n",
    "- Your task is to write a program that asks the user to enter the index\n",
    "number of the fruit they want, such as 0 for \"apple\", 1 for \"banana\", or\n",
    "2 for \"cherry\".\n",
    "- The program should then print the name of the fruit at the chosen\n",
    "index.\n",
    "- To make the program more robust, you should use a `try/except` block\n",
    "to handle possible errors.\n",
    "- Specifically, you need to handle the case when the user enters\n",
    "something that is not a number (which would cause a `ValueError`)\n",
    "and when the user enters a number that is outside the valid range of\n",
    "indices for the list (which would cause an `IndexError`).\n",
    "- The program should print a friendly error message in both cases\n",
    "without crashing."
   ]
  },
  {
   "cell_type": "code",
   "execution_count": null,
   "metadata": {},
   "outputs": [
    {
     "name": "stdout",
     "output_type": "stream",
     "text": [
      "Invalid index! Please enter a number between 0 and 2.\n"
     ]
    }
   ],
   "source": [
    "fruits = [\"apple\", \"banana\", \"cherry\"]\n",
    "#If user inputs something that is not a number OR outside the range,\n",
    "#Have phrases that let's the user know to try again\n",
    "try:\n",
    "    number = int(input(\"Enter the correct number of the fruit you want (0 for apple, 1 for banana, 2 for cherry): \"))\n",
    "    print(f\"You chose: {fruits[number]}\")\n",
    "except ValueError:\n",
    "    print(\"Invalid input! Please enter a number.\")\n",
    "except IndexError:\n",
    "    print(\"Invalid input! Please enter a number between 0 and 2.\")"
   ]
  },
  {
   "cell_type": "markdown",
   "metadata": {},
   "source": [
    "## Exercise 2\n",
    "\n",
    "**Task:**\n",
    "Implement function `calculator_division()` that divides 2 numbers with `try/except` for a) handling error when user enters something that’s not a number (`ValueError`) and b) when user tries to divide by zero (`ZeroDivisionError`).\n"
   ]
  },
  {
   "cell_type": "code",
   "execution_count": 12,
   "metadata": {},
   "outputs": [
    {
     "name": "stdout",
     "output_type": "stream",
     "text": [
      "Invalid input! Please enter numeric values.\n",
      "Invalid input! Please enter a number that is not zero.\n",
      "2.0\n"
     ]
    }
   ],
   "source": [
    "#Print statements regarding is the user enters something that is not a number\n",
    "#OR tries to enter zero as a number\n",
    "def calculator_division():\n",
    "    try:\n",
    "        num1 = float(input(\"Enter the first number: \"))\n",
    "        num2 = float(input(\"Enter the second number: \"))\n",
    "        result = num1 / num2\n",
    "        print(result)\n",
    "    except ValueError:\n",
    "        print(\"Invalid input! Please enter numeric values.\")\n",
    "    except ZeroDivisionError:\n",
    "        print(\"Invalid input! Please enter a number that is not zero.\")\n",
    "\n",
    "calculator_division()\n",
    "calculator_division()\n",
    "calculator_division()"
   ]
  },
  {
   "cell_type": "code",
   "execution_count": null,
   "metadata": {},
   "outputs": [],
   "source": []
  }
 ],
 "metadata": {
  "kernelspec": {
   "display_name": "Python 3",
   "language": "python",
   "name": "python3"
  },
  "language_info": {
   "codemirror_mode": {
    "name": "ipython",
    "version": 3
   },
   "file_extension": ".py",
   "mimetype": "text/x-python",
   "name": "python",
   "nbconvert_exporter": "python",
   "pygments_lexer": "ipython3",
   "version": "3.13.1"
  }
 },
 "nbformat": 4,
 "nbformat_minor": 2
}
