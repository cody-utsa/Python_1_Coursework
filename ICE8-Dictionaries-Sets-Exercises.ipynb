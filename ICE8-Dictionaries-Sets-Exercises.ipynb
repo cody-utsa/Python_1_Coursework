{
 "cells": [
  {
   "cell_type": "markdown",
   "id": "89fe0917",
   "metadata": {},
   "source": [
    "# 🐍 ICE 8: Dictionaries and Sets"
   ]
  },
  {
   "cell_type": "markdown",
   "id": "0bf1c870",
   "metadata": {},
   "source": [
    "### Exercise 1: Creating and Accessing a Dictionary\n",
    "Create a dictionary called `capitals` that maps the following countries to their capital cities:\n",
    "- France → Paris\n",
    "- Germany → Berlin\n",
    "- Italy → Rome\n",
    "\n",
    "Print the entire dictionary, and then print the capital of Germany using its key."
   ]
  },
  {
   "cell_type": "code",
   "execution_count": null,
   "id": "09f863fa",
   "metadata": {
    "vscode": {
     "languageId": "plaintext"
    }
   },
   "outputs": [],
   "source": []
  },
  {
   "cell_type": "markdown",
   "id": "9c483959",
   "metadata": {},
   "source": [
    "### Exercise 2: Modifying a Dictionary\n",
    "Add a new country-capital pair to the `capitals` dictionary: Spain → Madrid.\n",
    "Update the capital of Italy to \"Milan\".\n",
    "Delete the entry for France.\n",
    "Print the dictionary after each operation."
   ]
  },
  {
   "cell_type": "code",
   "execution_count": null,
   "id": "84a851a3",
   "metadata": {
    "vscode": {
     "languageId": "plaintext"
    }
   },
   "outputs": [],
   "source": []
  },
  {
   "cell_type": "markdown",
   "id": "9ae03ed6",
   "metadata": {},
   "source": [
    "### Exercise 3: Dictionary Methods\n",
    "Use the following dictionary:\n",
    "```python\n",
    "grades = {\"Alice\": 85, \"Bob\": 90, \"Charlie\": 78}\n",
    "```\n",
    "- Print all student names using `.keys()`\n",
    "- Print all grades using `.values()`\n",
    "- Print all student-grade pairs using `.items()`\n",
    "- Use `.get()` to retrieve Diana’s grade with a default message."
   ]
  },
  {
   "cell_type": "code",
   "execution_count": null,
   "id": "b05ace69",
   "metadata": {
    "vscode": {
     "languageId": "plaintext"
    }
   },
   "outputs": [],
   "source": []
  },
  {
   "cell_type": "markdown",
   "id": "f1ed7b68",
   "metadata": {},
   "source": [
    "### Exercise 4: Dictionary Comprehension\n",
    "Create a list called `nums` with values `[1, 2, 3, 4, 5]`.\n",
    "Use a dictionary comprehension to create a dictionary where the keys are the numbers and the values are their cubes."
   ]
  },
  {
   "cell_type": "code",
   "execution_count": null,
   "id": "b275e069",
   "metadata": {
    "vscode": {
     "languageId": "plaintext"
    }
   },
   "outputs": [],
   "source": []
  },
  {
   "cell_type": "markdown",
   "id": "d3b7f375",
   "metadata": {},
   "source": [
    "### Exercise 5: Creating and Using Sets\n",
    "Create a set named `colors` with the values: \"red\", \"green\", \"blue\", \"green\", \"red\".\n",
    "Print the set. Add \"yellow\" to the set and then remove \"blue\".\n",
    "Check if \"purple\" is in the set. Print the final set."
   ]
  },
  {
   "cell_type": "code",
   "execution_count": null,
   "id": "5cf40a3f",
   "metadata": {
    "vscode": {
     "languageId": "plaintext"
    }
   },
   "outputs": [],
   "source": []
  },
  {
   "cell_type": "markdown",
   "id": "b37813ad",
   "metadata": {},
   "source": [
    "### Exercise 6: Set Operations\n",
    "Create two sets:\n",
    "```python\n",
    "set1 = {1, 2, 3, 4}\n",
    "set2 = {3, 4, 5, 6}\n",
    "```\n",
    "Perform and print the result of the following operations:\n",
    "- Union\n",
    "- Intersection\n",
    "- Difference (set1 - set2)\n",
    "- Symmetric difference"
   ]
  },
  {
   "cell_type": "code",
   "execution_count": null,
   "id": "aff29244",
   "metadata": {
    "vscode": {
     "languageId": "plaintext"
    }
   },
   "outputs": [],
   "source": []
  }
 ],
 "metadata": {
  "language_info": {
   "name": "python"
  }
 },
 "nbformat": 4,
 "nbformat_minor": 5
}
