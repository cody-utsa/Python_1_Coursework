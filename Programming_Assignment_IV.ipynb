{
 "cells": [
  {
   "cell_type": "markdown",
   "id": "5a795550",
   "metadata": {},
   "source": [
    "# 🐍 Programming Assignment IV – Dictionaries, Sets, and Error Handling\n",
    "\n",
    "This assignment will help you practice using **dictionaries**, **sets**, and **error handling with `try/except`** in Python.\n",
    "\n",
    "Complete all 5 exercises below. Each function should be implemented in the corresponding code cell. Be sure to test your functions after writing them by calling them with different inputs.\n",
    "\n",
    "Remember to:\n",
    "- Follow instructions for each exercise carefully.\n",
    "- Use meaningful variable names and comments where needed.\n",
    "- **Add comments and explanations for your code!!**\n",
    "- Submit the `.html` file after completion.\n"
   ]
  },
  {
   "cell_type": "markdown",
   "id": "b5408a14",
   "metadata": {},
   "source": [
    "## Exercise 1: Student Grades Dictionary\n",
    "\n",
    "Write a function `get_average_grade(grades_dict)` that takes a dictionary where keys are student names and values are lists of integers (grades). \n",
    "Return a new dictionary where each student is mapped to their average grade (rounded to 1 decimal place if needed).\n",
    "\n",
    "**Example:**\n",
    "```python\n",
    "grades = {\n",
    "    \"Alice\": [80, 90, 85],\n",
    "    \"Bob\": [70, 75],\n",
    "    \"Charlie\": [100]\n",
    "}\n",
    "get_average_grade(grades)\n",
    "# Output: {'Alice': 85.0, 'Bob': 72.5, 'Charlie': 100.0}\n",
    "```"
   ]
  },
  {
   "cell_type": "code",
   "execution_count": null,
   "id": "2e7d1744",
   "metadata": {},
   "outputs": [
    {
     "data": {
      "text/plain": [
       "{'Alice': 85.0, 'Bob': 72.5, 'Charlie': 100.0}"
      ]
     },
     "execution_count": 1,
     "metadata": {},
     "output_type": "execute_result"
    }
   ],
   "source": [
    "#Dictonary for problem\n",
    "grades={\"Alice\":[80,90,85], \"Bob\":[70,75], \"Charlie\":[100]}\n",
    "\n",
    "def get_average_grades(grades_dict):\n",
    "    #Empty dictionary for average grades\n",
    "    avg_grades={}\n",
    "\n",
    "    #Creating a for loop to get average grades rounded to one decimal if needed\n",
    "    for student, grades in grades_dict.items():\n",
    "        avg_grades[student]=round(sum(grades)/len(grades), 1)\n",
    "\n",
    "    return avg_grades\n",
    "#Calling the function to see the average grades for each student\n",
    "get_average_grades(grades)"
   ]
  },
  {
   "cell_type": "markdown",
   "id": "9cf6cb35",
   "metadata": {},
   "source": [
    "## Exercise 2: Vocabulary Set Operations\n",
    "\n",
    "Write a function `compare_vocab(text1, text2)` that takes two strings and returns:\n",
    "\n",
    "1. A set of words that appear in **both** texts  \n",
    "2. A set of words that appear in **only one** of the texts  \n",
    "3. A set of words that appear in **either** text (union)\n",
    "\n",
    "Clean punctuation and ignore case.\n",
    "\n",
    "**Example:**\n",
    "```python\n",
    "compare_vocab(\"The cat sat on the mat.\", \"The dog sat under the mat.\")\n",
    "# Output:\n",
    "# ({\"the\", \"sat\", \"mat\"},\n",
    "#  {\"cat\", \"dog\", \"under\", \"on\"},\n",
    "#  {\"the\", \"cat\", \"sat\", \"on\", \"mat\", \"dog\", \"under\"})\n",
    "```"
   ]
  },
  {
   "cell_type": "code",
   "execution_count": null,
   "id": "acb33723",
   "metadata": {},
   "outputs": [
    {
     "data": {
      "text/plain": [
       "({'mat', 'sat', 'the'},\n",
       " {'cat', 'dog', 'on', 'under'},\n",
       " {'cat', 'dog', 'mat', 'on', 'sat', 'the', 'under'})"
      ]
     },
     "execution_count": 1,
     "metadata": {},
     "output_type": "execute_result"
    }
   ],
   "source": [
    "import string\n",
    "\n",
    "def compare_vocab(text1, text2):\n",
    "    #Getting rid of punctuation errors\n",
    "    translator = str.maketrans(\"\", \"\", string.punctuation)\n",
    "    #Seperating each word\n",
    "    words1 = set(text1.lower().translate(translator).split())\n",
    "    words2 = set(text2.lower().translate(translator).split())\n",
    "    #Creating variables to see which words match, differ, and only occur in one statement\n",
    "    both = words1.intersection(words2)\n",
    "    only_one = words1.symmetric_difference(words2)\n",
    "    either = words1.union(words2)\n",
    "    \n",
    "    return both, only_one, either\n",
    "#Calling the function to see which words are in both phrases, only in one phrase, and either phrase\n",
    "compare_vocab(\"The cat sat on the mat.\", \"The dog sat under the mat.\")\n"
   ]
  },
  {
   "cell_type": "markdown",
   "id": "d6b30d89",
   "metadata": {},
   "source": [
    "## Exercise 3: Safe Dictionary Updater\n",
    "\n",
    "Write a function `update_scores(scoreboard, updates)` that takes:\n",
    "\n",
    "- A dictionary `scoreboard` mapping player names to scores (integers)  \n",
    "- A list of tuples `updates`, where each tuple contains a player name and a score delta (positive or negative)\n",
    "\n",
    "Update the dictionary **in-place**. Use `try/except` to handle the case where a player is missing from the scoreboard — in that case, print:\n",
    "`\"Warning: Player <name> not found.\"` and skip the update.\n",
    "\n",
    "**Example:**\n",
    "```python\n",
    "scoreboard = {\"Alice\": 10, \"Bob\": 5}\n",
    "updates = [(\"Alice\", 5), (\"Charlie\", 3), (\"Bob\", -2)]\n",
    "\n",
    "update_scores(scoreboard, updates)\n",
    "# Output:\n",
    "# Warning: Player Charlie not found.\n",
    "# scoreboard → {'Alice': 15, 'Bob': 3}\n",
    "```"
   ]
  },
  {
   "cell_type": "code",
   "execution_count": null,
   "id": "c4bf9491",
   "metadata": {},
   "outputs": [
    {
     "name": "stdout",
     "output_type": "stream",
     "text": [
      "Warning: Player Charlie not found.\n",
      "scoreboard -> {'Alice': 15, 'Bob': 3}\n"
     ]
    }
   ],
   "source": [
    "#Dictionry for scoreboard and tuples for updates\n",
    "scoreboard = {\"Alice\":10, \"Bob\":5}\n",
    "updates = [(\"Alice\", 5), (\"Charlie\", 3), (\"Bob\", -2)]\n",
    "\n",
    "def update_scores(scoreboard, updates):\n",
    "    #Having try/except for a player not in the scoreboard\n",
    "    #For loop to update the scoreboard using delta to add/subtract total from scoreboard for each player\n",
    "    for player, delta in updates:\n",
    "        try:\n",
    "            scoreboard[player] += delta\n",
    "        except KeyError:\n",
    "            print(f\"Warning: Player {player} not found.\")\n",
    "#Calling the function and printing the updated scoreboard\n",
    "update_scores(scoreboard,updates)\n",
    "print(\"scoreboard ->\", scoreboard)\n"
   ]
  },
  {
   "cell_type": "markdown",
   "id": "412231cf",
   "metadata": {},
   "source": [
    "## Exercise 4: Inventory System with Error Handling\n",
    "\n",
    "Create a function `get_item_price(inventory, item_name)` that takes a dictionary mapping item names to prices. Use `try/except` to handle the case when the item is not found and return `\"Item not found\"`.\n",
    "\n",
    "**Example:**\n",
    "```python\n",
    "store = {\"apple\": 0.5, \"banana\": 0.3}\n",
    "get_item_price(store, \"apple\") → 0.5  \n",
    "get_item_price(store, \"orange\") → \"Item not found\"\n",
    "```"
   ]
  },
  {
   "cell_type": "code",
   "execution_count": 11,
   "id": "5237adb3",
   "metadata": {},
   "outputs": [
    {
     "data": {
      "text/plain": [
       "'Item not found'"
      ]
     },
     "execution_count": 11,
     "metadata": {},
     "output_type": "execute_result"
    }
   ],
   "source": [
    "#Dictionary for prices of fruits\n",
    "store = {\"apple\":0.5, \"banana\":0.3}\n",
    "\n",
    "def get_item_price(inventory, item_name):\n",
    "    #Giving a error if the input for inventory is not in the dictionary\n",
    "    try:\n",
    "        return inventory[item_name]\n",
    "    except KeyError:\n",
    "        return \"Item not found\"\n",
    "#Calling the function to see the price of the fruit    \n",
    "get_item_price(store, \"apple\")\n",
    "get_item_price(store, \"orange\")\n",
    "\n"
   ]
  },
  {
   "cell_type": "markdown",
   "id": "96a127e2",
   "metadata": {},
   "source": [
    "## Exercise 5: Word Frequency Counter (Full Combo)\n",
    "\n",
    "Write a function `word_frequencies(text)` that returns a dictionary of word counts in a string (case-insensitive, no punctuation). Use a `set` to find and print the number of unique words. Use `try/except` to catch cases where the input is **not a string**, in that case, return:  \n",
    "`\"Error: Input must be a string.\"`\n",
    "\n",
    "**Example:**\n",
    "```python\n",
    "word_frequencies(\"This is a test. This test is only a test.\")\n",
    "# Output:\n",
    "# {'this': 3, 'is': 2, 'a': 2, 'test': 3, 'only': 1}\n",
    "# (Also prints: Number of unique words: 5)\n",
    "```"
   ]
  },
  {
   "cell_type": "code",
   "execution_count": null,
   "id": "c8c2ca7c",
   "metadata": {},
   "outputs": [
    {
     "name": "stdout",
     "output_type": "stream",
     "text": [
      "Number of unique words: 5\n"
     ]
    },
    {
     "data": {
      "text/plain": [
       "{'this': 2, 'is': 2, 'a': 2, 'test': 3, 'only': 1}"
      ]
     },
     "execution_count": 7,
     "metadata": {},
     "output_type": "execute_result"
    }
   ],
   "source": [
    "import string\n",
    "\n",
    "def word_frequencies(text):\n",
    "    try:\n",
    "        # Making it case-insensitive and returning an error if the text is not a string\n",
    "        text = text.lower()\n",
    "    except AttributeError:\n",
    "        return \"Error: Input must be a string.\"\n",
    "    \n",
    "    # Getting rid of punctuation errors\n",
    "    translator = str.maketrans(\"\", \"\", string.punctuation)\n",
    "    cleaned_text = text.translate(translator)\n",
    "    \n",
    "    # Seperating each word\n",
    "    words = cleaned_text.split()\n",
    "    \n",
    "    # Calculating word frequencies using a dictionary\n",
    "    freq = {}\n",
    "    for word in words:\n",
    "        freq[word] = freq.get(word, 0) + 1\n",
    "    \n",
    "    # Counting how many unique words there is\n",
    "    unique_words = set(words)\n",
    "    print(\"Number of unique words:\", len(unique_words))\n",
    "    \n",
    "    return freq\n",
    "\n",
    "word_frequencies(\"This is a test. This test is only a test.\")\n"
   ]
  },
  {
   "cell_type": "code",
   "execution_count": null,
   "id": "0fa21fdf",
   "metadata": {},
   "outputs": [],
   "source": []
  }
 ],
 "metadata": {
  "kernelspec": {
   "display_name": "Python 3",
   "language": "python",
   "name": "python3"
  },
  "language_info": {
   "codemirror_mode": {
    "name": "ipython",
    "version": 3
   },
   "file_extension": ".py",
   "mimetype": "text/x-python",
   "name": "python",
   "nbconvert_exporter": "python",
   "pygments_lexer": "ipython3",
   "version": "3.13.1"
  }
 },
 "nbformat": 4,
 "nbformat_minor": 5
}
