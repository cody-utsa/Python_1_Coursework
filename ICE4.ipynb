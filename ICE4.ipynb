{
 "cells": [
  {
   "cell_type": "markdown",
   "id": "5a62ff7c",
   "metadata": {},
   "source": [
    "# 🐍 ICE 4: Repetition Structures"
   ]
  },
  {
   "cell_type": "markdown",
   "id": "f582ee29",
   "metadata": {},
   "source": [
    "### Exercise 1: Counting Down (For Loop)\n",
    "\n",
    "Write a program that counts down from 10 to 1, then prints 'Blastoff!'"
   ]
  },
  {
   "cell_type": "code",
   "execution_count": 16,
   "id": "00bd6374",
   "metadata": {},
   "outputs": [
    {
     "name": "stdout",
     "output_type": "stream",
     "text": [
      "10\n",
      "9\n",
      "8\n",
      "7\n",
      "6\n",
      "5\n",
      "4\n",
      "3\n",
      "2\n",
      "1\n",
      "Blastoff!\n"
     ]
    }
   ],
   "source": [
    "#Creating a range of numbers and telling it to count down\n",
    "for number in range(10, 0, -1):\n",
    "    print(number)\n",
    "\n",
    "#When the countdown hits 0, display blastoff\n",
    "number == 0\n",
    "print(\"Blastoff!\")"
   ]
  },
  {
   "cell_type": "markdown",
   "id": "ae003e24",
   "metadata": {},
   "source": [
    "### Exercise 2: Counting from 1 to N (For Loop)\n",
    "\n",
    "Write a program that asks the user for a number N and then prints numbers from 1 to N."
   ]
  },
  {
   "cell_type": "code",
   "execution_count": 17,
   "id": "76ee30fa",
   "metadata": {},
   "outputs": [
    {
     "name": "stdout",
     "output_type": "stream",
     "text": [
      "1\n",
      "2\n",
      "3\n",
      "4\n"
     ]
    }
   ],
   "source": [
    "#Making the computer create a list from 1 until the user inputted number\n",
    "N=int(input(\"Input a number: \"))\n",
    "for N in range(1, N + 1, 1):\n",
    "    print(N)"
   ]
  },
  {
   "cell_type": "markdown",
   "id": "1e107460",
   "metadata": {},
   "source": [
    "### Exercise 3: Sum of Numbers (While Loop & Running Total)\n",
    "\n",
    "Write a program that keeps asking the user for numbers until they enter 0. Then, print the sum of all entered numbers."
   ]
  },
  {
   "cell_type": "code",
   "execution_count": 18,
   "id": "3e19e122",
   "metadata": {},
   "outputs": [
    {
     "name": "stdout",
     "output_type": "stream",
     "text": [
      "13\n"
     ]
    }
   ],
   "source": [
    "#Asking the user to keep inputting a number until they input 0\n",
    "number=int(input(\"Input a number to add: \"))\n",
    "total = 0\n",
    "while number != 0:\n",
    "    total += number\n",
    "    number=int(input(\"Input another number (press 0 to exit): \"))\n",
    "\n",
    "#Print the sum of numbers when user inputs 0\n",
    "print(total)"
   ]
  },
  {
   "cell_type": "markdown",
   "id": "bd0fbfe1",
   "metadata": {},
   "source": [
    "### Exercise 4: Even or Odd (While Loop & Input Validation)\n",
    "\n",
    "Write a program that asks the user for a positive number. If the number is negative, keep asking. Then, print whether it is even or odd."
   ]
  },
  {
   "cell_type": "code",
   "execution_count": null,
   "id": "89d2ee4d",
   "metadata": {},
   "outputs": [
    {
     "name": "stdout",
     "output_type": "stream",
     "text": [
      "Odd\n"
     ]
    }
   ],
   "source": [
    "#Asking the user to input a number\n",
    "number=int(input(\"Input a number: \"))\n",
    "while number > 0:\n",
    "    new_number=int(input(\"Input another number: \"))\n",
    "\n",
    "#When the user inputs a correct number, determine if it is even or odd\n",
    "if number or new_number % 2 == 0:\n",
    "    print(\"Even\")\n",
    "else:\n",
    "    print(\"Odd\")"
   ]
  },
  {
   "cell_type": "markdown",
   "id": "e37d4753",
   "metadata": {},
   "source": [
    "### Exercise 5: Simple Multiplication Table (For Loop)\n",
    "\n",
    "Write a program that asks for a number and prints its multiplication table up to 10."
   ]
  },
  {
   "cell_type": "code",
   "execution_count": 5,
   "id": "f978ba37",
   "metadata": {},
   "outputs": [
    {
     "name": "stdout",
     "output_type": "stream",
     "text": [
      "4\n",
      "8\n",
      "12\n",
      "16\n",
      "20\n",
      "24\n",
      "28\n",
      "32\n",
      "36\n",
      "40\n"
     ]
    }
   ],
   "source": [
    "number=int(input(\"Enter a number: \"))\n",
    "\n",
    "#Make the multiplication table\n",
    "for i in range(1, 11):\n",
    "    print(f\"{number * i}\")"
   ]
  },
  {
   "cell_type": "markdown",
   "id": "d3b90601",
   "metadata": {},
   "source": [
    "### Exercise 6: Password Validator (While Loop & Input Validation)\n",
    "\n",
    "Write a program that keeps asking for a password until the user enters 'python123'."
   ]
  },
  {
   "cell_type": "code",
   "execution_count": 7,
   "id": "d4e8d963",
   "metadata": {},
   "outputs": [
    {
     "name": "stdout",
     "output_type": "stream",
     "text": [
      "Correct Password\n"
     ]
    }
   ],
   "source": [
    "#Variables for the right password and the user input\n",
    "correct_password= \"python123\"\n",
    "password=\"\"\n",
    "\n",
    "#Ask the user to input a password and ask again until it enters the correct password\n",
    "while password != correct_password:\n",
    "    password= input(\"Enter password: \")\n",
    "\n",
    "print(\"Correct Password\")\n"
   ]
  },
  {
   "cell_type": "markdown",
   "id": "b1bd41fc",
   "metadata": {},
   "source": [
    "### Exercise 7: Even or Odd in a List (For Loop)\n",
    "\n",
    "Write a program that iterates through a list of numbers [1,2,3,4,5,6,7,8,9,10] and prints whether each number is even or odd."
   ]
  },
  {
   "cell_type": "code",
   "execution_count": null,
   "id": "ca5bf5f4",
   "metadata": {},
   "outputs": [
    {
     "name": "stdout",
     "output_type": "stream",
     "text": [
      "0dd\n",
      "Even\n",
      "0dd\n",
      "Even\n",
      "0dd\n",
      "Even\n",
      "0dd\n",
      "Even\n",
      "0dd\n",
      "Even\n"
     ]
    }
   ],
   "source": [
    "numbers = [1,2,3,4,5,6,7,8,9,10] # this is how we create a list in python\n",
    "\n",
    "#Determine which numbers are even or odd\n",
    "for number in numbers:\n",
    "    if number % 2 == 0:\n",
    "        print(\"Even\")\n",
    "    else:\n",
    "        print(\"0dd\")"
   ]
  },
  {
   "cell_type": "markdown",
   "id": "91201366",
   "metadata": {},
   "source": [
    "### Exercise 8: Nested Loops - Multiplication Table\n",
    "\n",
    "Write a program that prints a multiplication table (1-5) using nested loops."
   ]
  },
  {
   "cell_type": "code",
   "execution_count": 15,
   "id": "55aafdaa",
   "metadata": {},
   "outputs": [
    {
     "name": "stdout",
     "output_type": "stream",
     "text": [
      "1 2 3 4 5 \n",
      "2 4 6 8 10 \n",
      "3 6 9 12 15 \n",
      "4 8 12 16 20 \n",
      "5 10 15 20 25 \n"
     ]
    }
   ],
   "source": [
    "#Creating the outer loop for the rows and inner loop for the column\n",
    "for row in range(1,6):\n",
    "    for col in range(1,6):\n",
    "        print(f\"{row * col}\", end=\" \")\n",
    "    print()"
   ]
  },
  {
   "cell_type": "code",
   "execution_count": null,
   "id": "43c86f04",
   "metadata": {},
   "outputs": [],
   "source": []
  }
 ],
 "metadata": {
  "kernelspec": {
   "display_name": "Python 3",
   "language": "python",
   "name": "python3"
  },
  "language_info": {
   "codemirror_mode": {
    "name": "ipython",
    "version": 3
   },
   "file_extension": ".py",
   "mimetype": "text/x-python",
   "name": "python",
   "nbconvert_exporter": "python",
   "pygments_lexer": "ipython3",
   "version": "3.13.1"
  }
 },
 "nbformat": 4,
 "nbformat_minor": 5
}
