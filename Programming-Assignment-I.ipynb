{
 "cells": [
  {
   "cell_type": "markdown",
   "id": "a0712976",
   "metadata": {},
   "source": [
    "# 🐍 Programming Assignment I"
   ]
  },
  {
   "cell_type": "markdown",
   "id": "3a3fdfa0",
   "metadata": {},
   "source": [
    "## **General Instructions for Submission**\n",
    "\n",
    "1. **Submit a Report on Canvas**  \n",
    "   - Your report should include comments and explanations in **MARKDOWN** and **COMMENTS** for your code.  \n",
    "   - Clearly explain how your program works and any assumptions made.  \n",
    "\n",
    "2. **Submit the Final File in `.html` Format**  \n",
    "   - Convert your Jupyter Notebook (`.ipynb`) to an `.html` file before submission.  \n",
    "   - You can do this in Jupyter Notebook by selecting:  \n",
    "     ```\n",
    "     File → Export Notebook As → HTML\n",
    "     ```\n",
    "   - Ensure that the `.html` file properly displays your code and output.  \n",
    "\n",
    "3. **Check Your Submission Before Uploading!**  \n",
    "   - **READ the instructions carefully.**  \n",
    "   - **OPEN your file** before submitting to make sure it contains all your work.  \n",
    "   - **Avoid submitting empty or incomplete files!** (Many students make this mistake!)  \n",
    "\n",
    "**Follow these steps carefully to avoid losing points!** Good luck!"
   ]
  },
  {
   "cell_type": "markdown",
   "id": "2547f2b5",
   "metadata": {},
   "source": [
    "-------------------------------------------------------------------------------------------------------------------------------------------------------------------------------"
   ]
  },
  {
   "cell_type": "markdown",
   "id": "bae53d95",
   "metadata": {},
   "source": [
    "## Assignment 1: Smart Movie Ticket Pricing\n",
    "### **Find Your Ticket Price Instantly!**  \n",
    "\n",
    "You're at the movie theater, excited to watch the latest blockbuster! \n",
    "But wait—**how much is your ticket?** 🤔 Let's write a **Python program** to figure it out!  \n",
    "\n",
    "Your program will:  \n",
    "✅ Ask for the **user's age**.  \n",
    "✅ Determine the **ticket price** based on standard pricing:\n",
    "- 0-12 years: $8\n",
    "- 13-17 years: $10\n",
    "- 18-64 years: $15\n",
    "- 65+ years: $12  \n",
    "\n",
    "✅ Display the correct price **instantly**.  \n"
   ]
  },
  {
   "cell_type": "code",
   "execution_count": 2,
   "id": "c2810343",
   "metadata": {},
   "outputs": [
    {
     "name": "stdout",
     "output_type": "stream",
     "text": [
      "$15\n"
     ]
    }
   ],
   "source": [
    "#Asking the user for their age\n",
    "Age=float(input(\"What is your current age: \"))\n",
    "\n",
    "#The price of tickets depending on age\n",
    "if Age < 12:\n",
    "    print(\"$8\")\n",
    "elif Age <= 17 and Age >= 13:\n",
    "    print(\"$10\")\n",
    "elif Age <= 64 and Age >= 18:\n",
    "    print(\"$15\")\n",
    "else:\n",
    "    print(\"$12\")"
   ]
  },
  {
   "cell_type": "markdown",
   "id": "58be6765",
   "metadata": {},
   "source": [
    "----------------------------------------------------------------------------------------------------------------------------------------------------------------------------------------------------"
   ]
  },
  {
   "cell_type": "markdown",
   "id": "2a221c64",
   "metadata": {},
   "source": [
    "# Assignment 2: Restaurant Bill Splitter\n",
    "### **No More Awkward Bill Splitting!**\n",
    "\n",
    "You just had a **great meal** with your friends at a restaurant. \n",
    "Now it’s time to **split the bill**—but how much does each person owe?  \n",
    "\n",
    "In this assignment, you’ll create a **Restaurant Bill Splitter** that will help you:\n",
    "- Calculate the **total bill including tip** so your server gets a fair reward. \n",
    "- **Evenly divide** the cost among your friends. \n",
    "\n",
    "Your program will ask for:\n",
    "\n",
    "✅ The **total bill amount**.  \n",
    "✅ The **number of people** sharing the bill.  \n",
    "✅ The **tip percentage** (10%, 15%, or 20%) you want to leave.  \n",
    "\n",
    "Your program will **calculate and display**:\n",
    "\n",
    "✅ The **total amount** including the tip.  \n",
    "✅ The **amount each person must pay**, rounded to **two decimal places**.   \n"
   ]
  },
  {
   "cell_type": "markdown",
   "id": "089b8f67",
   "metadata": {},
   "source": [
    "### **Formulas:**\n",
    "\n",
    "1. **Calculate the tip amount:**\n",
    "   $\n",
    "   \\text{tip amount} = \\text{bill amount} \\times \\frac{\\text{tip percentage}}{100}\n",
    "   $.\n",
    "\n",
    "2. **Calculate the total bill including tip:**\n",
    "   $\n",
    "   \\text{total bill} = \\text{bill amount} + \\text{tip amount}\n",
    "   $.\n",
    "\n",
    "3. **Calculate the amount each person must pay:**\n",
    "   $\n",
    "   \\text{amount per person} = \\frac{\\text{total bill}}{\\text{number of people}}\n",
    "   $.\n",
    "\n",
    "---"
   ]
  },
  {
   "cell_type": "code",
   "execution_count": 3,
   "id": "8fe27c6a",
   "metadata": {},
   "outputs": [
    {
     "name": "stdout",
     "output_type": "stream",
     "text": [
      "55.0\n"
     ]
    }
   ],
   "source": [
    "#Ask the user how much the total bill is\n",
    "bill=float(input(\"The total bill amount: \"))\n",
    "\n",
    "#Ask the user the amount of people splitting the bill\n",
    "people=float(input(\"Amount of people splitting the bill: \"))\n",
    "\n",
    "#Ask the user what percentage they will tip the server\n",
    "tip=float(input(\"Tip percentage: \"))\n",
    "\n",
    "#Make formula for the bill for each person\n",
    "tip_amount=bill * tip/100\n",
    "bill_amount=bill + tip_amount\n",
    "split_bill=bill_amount / people\n",
    "\n",
    "print(split_bill)"
   ]
  },
  {
   "cell_type": "markdown",
   "id": "5882bb80",
   "metadata": {},
   "source": [
    "## Assignment 3: Road Trip Cost Calculator\n",
    "### **Plan Your Next Adventure!**\n",
    "\n",
    "Imagine you're planning an exciting **road trip** with your family or friends! 🚗💨  \n",
    "Before you hit the road, you'll need to **estimate the total fuel cost** to ensure you have enough money for gas, snacks, and maybe even some cool souvenirs.\n",
    "\n",
    "In this assignment, you'll build a **Road Trip Cost Calculator** that asks for:\n",
    "- The **distance** you plan to travel (in miles).\n",
    "- The **fuel efficiency** of your car (miles per gallon).\n",
    "- The **price of gas per gallon**.\n",
    "\n",
    "Your program will **calculate and display**:\n",
    "\n",
    "✅ The total **gallons of gas needed** for the trip.  \n",
    "✅ The total **cost of the trip**, so you know how much to budget.  \n",
    "\n",
    "💡 **Why is this useful?**  \n",
    "Next time you plan a road trip, you can **use your own Python program** to estimate the cost before you even leave home! "
   ]
  },
  {
   "cell_type": "markdown",
   "id": "7d818e09",
   "metadata": {},
   "source": [
    "### **Formulas:**\n",
    "1. **Total gallons of gas needed**:\n",
    "   $\n",
    "   \\text{gallons needed} = \\frac{\\text{distance}}{\\text{miles per gallon (mpg)}}\n",
    "   $.\n",
    "   This tells us how many gallons of fuel the trip will require.\n",
    "\n",
    "2. **Total trip cost**:\n",
    "   $\n",
    "   \\text{total cost} = \\text{gallons needed} \\times \\text{price per gallon}\n",
    "   $.\n",
    "   This gives the total cost by multiplying the fuel required by the price per gallon.\n",
    "\n",
    "---"
   ]
  },
  {
   "cell_type": "code",
   "execution_count": 5,
   "id": "2273aa7a",
   "metadata": {},
   "outputs": [
    {
     "name": "stdout",
     "output_type": "stream",
     "text": [
      "74.4\n"
     ]
    }
   ],
   "source": [
    "#Ask the user the distance in miles\n",
    "miles=float(input(\"How many miles is this trip: \"))\n",
    "\n",
    "#Ask the user their vehicle's MPG\n",
    "mpg=float(input(\"What is your vehicle's MPG: \"))\n",
    "\n",
    "#Ask the user the price for gas\n",
    "gas=float(input(\"What is the price of gas: \"))\n",
    "\n",
    "#Determining the cost of the trip\n",
    "gas_needed=miles / mpg\n",
    "cost=gas_needed * gas\n",
    "\n",
    "print(cost)"
   ]
  },
  {
   "cell_type": "markdown",
   "id": "e2c314c2",
   "metadata": {},
   "source": [
    "# Assignment 4: Shopping Discount System\n",
    "### Dynamic Discount Calculator\n",
    "**`Instructions`:**\n",
    "\n",
    "✅ Ask for the **total purchase amount**.  \n",
    "✅ Apply a discount based on the amount:\n",
    "   - Less than $50: No discount\n",
    "   - $50-$100: 5% discount\n",
    "   - $101-$200: 10% discount\n",
    "   - Over $200: 15% discount\n",
    "   \n",
    "✅ Calculate and display the **final price after the discount**.  \n",
    "✅ Ensure the output is formatted to two decimal places."
   ]
  },
  {
   "cell_type": "markdown",
   "id": "3348059c",
   "metadata": {},
   "source": [
    "\\\n",
    "Using the discount rate, the **final price** is computed as:\n",
    "\n",
    "$\n",
    "\\text{final price} = \\text{total purchase} \\times (1 - \\text{discount})\n",
    "$\n",
    "\n",
    "---"
   ]
  },
  {
   "cell_type": "code",
   "execution_count": null,
   "id": "43dd8839",
   "metadata": {},
   "outputs": [
    {
     "name": "stdout",
     "output_type": "stream",
     "text": [
      "40.0\n"
     ]
    }
   ],
   "source": [
    "#Asking the user their total purchase amount\n",
    "total=float(input(\"What is the total purchase amount: \"))\n",
    "\n",
    "#Determining the discount and formulas for total prices\n",
    "if total <50:\n",
    "    discount= total - (total * 0)\n",
    "elif total <=100 and total >=50:\n",
    "    discount= total - (total * 0.05)\n",
    "elif total <=200 and total >=101:\n",
    "    discount= total - (total * 0.1)\n",
    "else:\n",
    "    discount= total - (total * 0.15)\n",
    "\n",
    "print(discount)"
   ]
  },
  {
   "cell_type": "markdown",
   "id": "726f0c39",
   "metadata": {},
   "source": [
    "--------------------------------------------------------------------------------------------------------------------------------------------------------------------------------------------------"
   ]
  },
  {
   "cell_type": "markdown",
   "id": "55f02dbf",
   "metadata": {},
   "source": [
    "# Assignment 5: Fitness Challenge Eligibility Checker\n",
    "\n",
    "A new **fitness challenge** is here, but not everyone qualifies!   \n",
    "Let’s build a **Python program** to check **if someone is eligible to participate.**  \n",
    "\n",
    "Your program will:  \n",
    "✅ Ask for the **user's age**.  \n",
    "✅ If **under 18**, inform them they **cannot participate**.  \n",
    "✅ If **18 or older**, ask for their **weight (kg)** and **height (m)**.  \n",
    "✅ Calculate **BMI (body-mass index)** using:  \n",
    "   $\n",
    "   \\text{BMI} = \\frac{\\text{weight}}{\\text{height}^2}\n",
    "   $.\n",
    "    \n",
    "✅ Participants are eligible for the challenge if their BMI is **between 18.5 and 30**.  \n",
    "✅ Display their **BMI** and whether they **qualify**.  \n"
   ]
  },
  {
   "cell_type": "code",
   "execution_count": 14,
   "id": "f28f4516",
   "metadata": {},
   "outputs": [
    {
     "name": "stdout",
     "output_type": "stream",
     "text": [
      "You cannot participate due to not meeting the BMI criteria.\n"
     ]
    }
   ],
   "source": [
    "#Ask the user their age. If old enough, ask for weight and height\n",
    "age=float(input(\"What is your age: \"))\n",
    "if age < 18:\n",
    "    print(\"You cannot participate due to not meeting the age criteria.\")\n",
    "else:\n",
    "    weight=float(input(\"What is your weight in kg: \"))\n",
    "    height=float(input(\"What is your height in m: \"))\n",
    "\n",
    "#Calculating their weight and determining if the user is eligable\n",
    "BMI= weight / height * height\n",
    "if BMI <= 30 and BMI >= 18.5:\n",
    "    print(\"You qualify with your BMI being: \")\n",
    "    print(BMI)\n",
    "else:\n",
    "    print(\"You cannot participate due to not meeting the BMI criteria.\")"
   ]
  },
  {
   "cell_type": "markdown",
   "id": "df6cee3a",
   "metadata": {},
   "source": [
    "----------------------------------------------------------------------------------------------------------------------------------------------------------------------------------------------------"
   ]
  },
  {
   "cell_type": "markdown",
   "id": "96b8aae6",
   "metadata": {},
   "source": [
    "----------------------------------------------------------------------------------------------------------------------------------------------------------------------------------------------------"
   ]
  },
  {
   "cell_type": "markdown",
   "id": "6d519b51",
   "metadata": {},
   "source": [
    "### Extra Credit Challenge: Triangle Type Identifier\n",
    "### Triangle Analyzer\n",
    "**Instructions:**\n",
    "1. Ask the user to enter three side lengths.\n",
    "2. Check if the given sides can form a valid triangle.\n",
    "   - The sum of any two sides must be greater than the third side.\n",
    "3. If valid, classify the triangle as:\n",
    "   - Equilateral (all sides equal)\n",
    "   - Isosceles (two sides equal)\n",
    "   - Scalene (all sides different)\n",
    "4. Display whether the triangle is valid and, if so, its classification."
   ]
  },
  {
   "cell_type": "code",
   "execution_count": 18,
   "id": "e8289fcc",
   "metadata": {},
   "outputs": [
    {
     "name": "stdout",
     "output_type": "stream",
     "text": [
      "This triangle is a: \n",
      "Scalene\n"
     ]
    }
   ],
   "source": [
    "#Ask the user to give three side lengths\n",
    "first=float(input(\"Input the first side length: \"))\n",
    "second=float(input(\"Input the second side length: \"))\n",
    "third=float(input(\"Input the third side length: \"))\n",
    "\n",
    "#Determine if the side lengths can make a valid triangle\n",
    "if first + second < third:\n",
    "    print(\"This cannot be a vaild triangle.\")\n",
    "else:\n",
    "    print(\"This triangle is a: \")\n",
    "\n",
    "#Determine what type of triangle it is\n",
    "if first == second and second == third:\n",
    "    print(\"Equilateral\")\n",
    "elif first == second or second == third or first == third:\n",
    "    print(\"Isosceles\")\n",
    "else:\n",
    "    print(\"Scalene\")"
   ]
  },
  {
   "cell_type": "code",
   "execution_count": null,
   "id": "a42e669d",
   "metadata": {},
   "outputs": [],
   "source": []
  }
 ],
 "metadata": {
  "kernelspec": {
   "display_name": "Python 3",
   "language": "python",
   "name": "python3"
  },
  "language_info": {
   "codemirror_mode": {
    "name": "ipython",
    "version": 3
   },
   "file_extension": ".py",
   "mimetype": "text/x-python",
   "name": "python",
   "nbconvert_exporter": "python",
   "pygments_lexer": "ipython3",
   "version": "3.13.1"
  }
 },
 "nbformat": 4,
 "nbformat_minor": 5
}
